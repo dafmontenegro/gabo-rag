{
  "cells": [
    {
      "cell_type": "code",
      "execution_count": 1,
      "metadata": {
        "colab": {
          "base_uri": "https://localhost:8080/"
        },
        "id": "Lwzxaz9WN8Sr",
        "outputId": "3652cec4-0063-4038-ce16-521349ac35b9"
      },
      "outputs": [],
      "source": [
        "!curl -fsSL https://ollama.com/install.sh | sh"
      ]
    },
    {
      "cell_type": "code",
      "execution_count": 2,
      "metadata": {
        "id": "BQGW527tO15z"
      },
      "outputs": [],
      "source": [
        "!nohup ollama serve > ollama_serve.log 2>&1 &"
      ]
    },
    {
      "cell_type": "code",
      "execution_count": 3,
      "metadata": {
        "id": "YVaKWZCMO3b6"
      },
      "outputs": [],
      "source": [
        "import time\n",
        "time.sleep(3)"
      ]
    },
    {
      "cell_type": "code",
      "execution_count": null,
      "metadata": {
        "colab": {
          "base_uri": "https://localhost:8080/"
        },
        "id": "OXavgAvmO4z1",
        "outputId": "691a15cf-0ef1-4152-ef32-2a8b8e73466f"
      },
      "outputs": [],
      "source": [
        "!ollama pull phi3.5"
      ]
    },
    {
      "cell_type": "code",
      "execution_count": 5,
      "metadata": {
        "id": "f7Lw0Oh6O6QR"
      },
      "outputs": [],
      "source": [
        "test_message = \"¿Cuántos hijos tiene la señora vieja del cuento Algo muy grave va a suceder en este pueblo?\"\n",
        "# EN:\"How many children does the old woman in the story 'Something Very Serious Is Going to Happen in This Town' have?\""
      ]
    },
    {
      "cell_type": "code",
      "execution_count": null,
      "metadata": {
        "colab": {
          "base_uri": "https://localhost:8080/",
          "height": 72
        },
        "id": "6Fu72N5yPAOS",
        "outputId": "79499be5-6f38-4c81-9433-c5fa464253da"
      },
      "outputs": [],
      "source": [
        "\"\"\"\n",
        "ES\n",
        "Fragmento inicial de 'Algo muy grave va a suceder en este pueblo' de Gabriel García Márquez.\n",
        "\"Imagínese usted un pueblo muy pequeño donde hay una señora vieja que tiene dos hijos, uno de 17 y una hija de 14... \"\n",
        "\n",
        "EN\n",
        "Initial excerpt from 'Something Very Serious Is Going to Happen in This Town' by Gabriel García Márquez:\n",
        "\"Imagine a very small town where there is an old woman who has two children, a 17-year-old son and a 14-year-old daughter...\"\n",
        "\"\"\""
      ]
    },
    {
      "cell_type": "code",
      "execution_count": 7,
      "metadata": {
        "colab": {
          "base_uri": "https://localhost:8080/"
        },
        "id": "T9jBMTndPEIp",
        "outputId": "d76669e9-b2f6-46d5-daad-b3169b6be78f"
      },
      "outputs": [],
      "source": [
        "!pip install -qU langchain_community"
      ]
    },
    {
      "cell_type": "code",
      "execution_count": 8,
      "metadata": {
        "id": "_SDD9Fq6PGId"
      },
      "outputs": [],
      "source": [
        "from langchain_community.llms import Ollama\n",
        "\n",
        "llm_phi = Ollama(model=\"phi3.5\")"
      ]
    },
    {
      "cell_type": "code",
      "execution_count": 9,
      "metadata": {
        "colab": {
          "base_uri": "https://localhost:8080/",
          "height": 72
        },
        "id": "Gp8wJRpjPJY2",
        "outputId": "6cf13505-324c-410f-f2d7-8ed6df9e3b99"
      },
      "outputs": [],
      "source": [
        "llm_phi.invoke(test_message)"
      ]
    },
    {
      "cell_type": "code",
      "execution_count": 10,
      "metadata": {
        "id": "gU3MDwCmPMNF"
      },
      "outputs": [],
      "source": [
        "!pip install -qU beautifulsoup4"
      ]
    },
    {
      "cell_type": "code",
      "execution_count": 11,
      "metadata": {
        "id": "_iaDs740PNrl"
      },
      "outputs": [],
      "source": [
        "base_urls = [\"https://ciudadseva.com/autor/gabriel-garcia-marquez/cuentos/\",\n",
        "             \"https://ciudadseva.com/autor/gabriel-garcia-marquez/opiniones/\",\n",
        "             \"https://ciudadseva.com/autor/gabriel-garcia-marquez/otrostextos/\"]"
      ]
    },
    {
      "cell_type": "code",
      "execution_count": null,
      "metadata": {
        "colab": {
          "base_uri": "https://localhost:8080/"
        },
        "id": "yXzAV9rqPPD9",
        "outputId": "9bf9c34f-c805-45b7-a8db-2acb6711c562"
      },
      "outputs": [],
      "source": [
        "from langchain.document_loaders import WebBaseLoader\n",
        "\n",
        "def get_urls(url):\n",
        "    article = WebBaseLoader(url).scrape().find(\"article\", \"status-publish\")\n",
        "    lis = article.find_all(\"li\", \"text-center\")\n",
        "    return [li.find(\"a\").get(\"href\") for li in lis]"
      ]
    },
    {
      "cell_type": "code",
      "execution_count": 13,
      "metadata": {
        "colab": {
          "base_uri": "https://localhost:8080/"
        },
        "id": "gAPmhZpWPRZt",
        "outputId": "978b79eb-9343-46f7-c9cf-1e98a84b920e"
      },
      "outputs": [
        {
          "data": {
            "text/plain": [
              "51"
            ]
          },
          "execution_count": 13,
          "metadata": {},
          "output_type": "execute_result"
        }
      ],
      "source": [
        "gabo_urls = []\n",
        "\n",
        "for base_url in base_urls:\n",
        "    gabo_urls.extend(get_urls(base_url))\n",
        "\n",
        "len(gabo_urls)"
      ]
    },
    {
      "cell_type": "code",
      "execution_count": 14,
      "metadata": {
        "id": "FUI5q2A2Pc7R"
      },
      "outputs": [],
      "source": [
        "def ciudad_seva_loader(url):\n",
        "    article = WebBaseLoader(url).scrape().find(\"article\", \"status-publish\")\n",
        "    title = \" \".join(article.find(\"header\").get_text().split())\n",
        "    article.find(\"header\").decompose()\n",
        "    texts = (\" \".join(article.get_text().split())).split(\". \")\n",
        "    return [f\"Fragmento {i+1}/{len(texts)} de '{title}': '{text}'\" for i, text in enumerate(texts)]"
      ]
    },
    {
      "cell_type": "code",
      "execution_count": 15,
      "metadata": {
        "id": "sDll7cv2SMk4"
      },
      "outputs": [],
      "source": [
        "!pip install -qU langchain-ollama"
      ]
    },
    {
      "cell_type": "code",
      "execution_count": null,
      "metadata": {
        "colab": {
          "base_uri": "https://localhost:8080/"
        },
        "id": "MvixQQrFPiwL",
        "outputId": "768e625a-1137-4160-b248-0873d2c33bf8"
      },
      "outputs": [],
      "source": [
        "!ollama pull nomic-embed-text"
      ]
    },
    {
      "cell_type": "code",
      "execution_count": 17,
      "metadata": {
        "id": "zMqnSIXOPjoZ"
      },
      "outputs": [],
      "source": [
        "from langchain_ollama import OllamaEmbeddings\n",
        "\n",
        "nomic_ollama_embeddings = OllamaEmbeddings(model=\"nomic-embed-text\")"
      ]
    },
    {
      "cell_type": "code",
      "execution_count": 18,
      "metadata": {
        "colab": {
          "base_uri": "https://localhost:8080/"
        },
        "id": "SGbgWAwsPlPY",
        "outputId": "75b30d6c-fb7d-4060-b875-6413e72216a2"
      },
      "outputs": [],
      "source": [
        "!pip install -qU chromadb langchain-chroma"
      ]
    },
    {
      "cell_type": "code",
      "execution_count": 19,
      "metadata": {
        "id": "qjHokMwlPn7c"
      },
      "outputs": [],
      "source": [
        "from langchain_chroma import Chroma\n",
        "\n",
        "def reset_collection(collection_name, persist_directory):\n",
        "    Chroma(\n",
        "        collection_name=collection_name,\n",
        "\t\tembedding_function=nomic_ollama_embeddings,\n",
        "\t\tpersist_directory=persist_directory\n",
        "\t).delete_collection()\n",
        "\n",
        "reset_collection(\"gabo_rag\", \"chroma\")"
      ]
    },
    {
      "cell_type": "code",
      "execution_count": 20,
      "metadata": {
        "colab": {
          "base_uri": "https://localhost:8080/"
        },
        "id": "N6pHyfQePp3F",
        "outputId": "1e9fe521-1a9e-4009-d03d-42dc4fddf1a2"
      },
      "outputs": [
        {
          "data": {
            "text/plain": [
              "5908"
            ]
          },
          "execution_count": 20,
          "metadata": {},
          "output_type": "execute_result"
        }
      ],
      "source": [
        "count = 0\n",
        "\n",
        "for gabo_url in gabo_urls:\n",
        "    texts = ciudad_seva_loader(gabo_url)\n",
        "    Chroma.from_texts(texts=texts, collection_name=\"gabo_rag\", embedding=nomic_ollama_embeddings, persist_directory=\"chroma\")\n",
        "    count += len(texts)\n",
        "\n",
        "count"
      ]
    },
    {
      "cell_type": "code",
      "execution_count": 21,
      "metadata": {
        "colab": {
          "base_uri": "https://localhost:8080/"
        },
        "id": "lYluu0-ZPseN",
        "outputId": "31088fd0-8aae-4e01-f5de-aac9ee72f9dc"
      },
      "outputs": [
        {
          "data": {
            "text/plain": [
              "5908"
            ]
          },
          "execution_count": 21,
          "metadata": {},
          "output_type": "execute_result"
        }
      ],
      "source": [
        "vector_store = Chroma(collection_name=\"gabo_rag\", embedding_function=nomic_ollama_embeddings, persist_directory=\"chroma\")\n",
        "\n",
        "len(vector_store.get()[\"ids\"])"
      ]
    },
    {
      "cell_type": "code",
      "execution_count": 22,
      "metadata": {
        "colab": {
          "base_uri": "https://localhost:8080/"
        },
        "id": "PTJV3LclPuSd",
        "outputId": "ed972ce4-f90a-481a-a06f-c1e62abb26dc"
      },
      "outputs": [
        {
          "name": "stdout",
          "output_type": "stream",
          "text": [
            "\n",
            "Fragmento 2/40 de 'Algo muy grave va a suceder en este pueblo [Cuento - Texto completo.] Gabriel García Márquez:\n",
            "Imagínese usted un pueblo muy pequeño donde hay una señora vieja que tiene dos hijos, uno de 17 y una hija de 14'\n"
          ]
        }
      ],
      "source": [
        "retriever = vector_store.as_retriever(search_kwargs={\"k\": 1})\n",
        "\n",
        "docs = retriever.invoke(test_message)\n",
        "\n",
        "for doc in docs:\n",
        "    title, article = doc.page_content.split(\"': '\")\n",
        "    print(f\"\\n{title}:\\n{article}\")"
      ]
    },
    {
      "cell_type": "code",
      "execution_count": 23,
      "metadata": {},
      "outputs": [],
      "source": [
        "from langchain_core.prompts import PromptTemplate\n",
        "\n",
        "template = \"\"\"\n",
        "Eres 'Gabo', un asistente especializado en la obra de Gabriel García Márquez. Fuiste creado en conmemoracion del decimo aniversario de su muerte.\n",
        "Responde de manera concisa, precisa y relevante a la pregunta que se te ha hecho, sin desviarte del tema y limitando tu respuesta a un parrafo.\n",
        "Cada consulta que recibas puede estar acompañada de un contexto que corresponde a fragmentos de cuentos, opiniones y otros textos del escritor.\n",
        "\n",
        "Contexto: {context}\n",
        "\n",
        "Pregunta: {input}\n",
        "\n",
        "Respuesta:\n",
        "\"\"\"\n",
        "\n",
        "custom_rag_prompt = PromptTemplate.from_template(template)"
      ]
    },
    {
      "cell_type": "code",
      "execution_count": 24,
      "metadata": {
        "id": "yxOFFd0-B5dk"
      },
      "outputs": [],
      "source": [
        "from langchain.chains.combine_documents import create_stuff_documents_chain\n",
        "from langchain.chains import create_retrieval_chain\n",
        "\n",
        "question_answer_chain = create_stuff_documents_chain(llm_phi, custom_rag_prompt)\n",
        "rag_chain = create_retrieval_chain(retriever, question_answer_chain)"
      ]
    },
    {
      "cell_type": "code",
      "execution_count": 25,
      "metadata": {
        "colab": {
          "base_uri": "https://localhost:8080/",
          "height": 424
        },
        "id": "M7W_Vu8CP-vU",
        "outputId": "d09c97e7-0bdc-4f5f-e6bc-3d20dd7bd5c4"
      },
      "outputs": [
        {
          "name": "stdout",
          "output_type": "stream",
          "text": [
            "\n",
            "ANSWER: Gabo es mi nombre, un asistente diseñado para proporcionar información sobre el ilustre escritor colombiano Gabriel García Márquez y su extensa obra literaria. Mis respuestas están informadas por textos como los fragmentos del cuento \"En este pueblo no hay ladrones\", donde la simplicidad cotidiana refleja las profundidades que el maestro de Macondo exploró en sus narrativas ricas y complejas.\n",
            "\n",
            "CONTEXT: Fragmento 457/714 de 'En este pueblo no hay ladrones [Cuento - Texto completo.] Gabriel García Márquez': 'Comieron sin hablar'\n"
          ]
        }
      ],
      "source": [
        "response = rag_chain.invoke({\"input\": \"Hablame de quien eres\"})\n",
        "\n",
        "print(f\"\\nANSWER: {response['answer']}\\nCONTEXT: {response['context'][0].page_content}\")"
      ]
    },
    {
      "cell_type": "code",
      "execution_count": 26,
      "metadata": {
        "id": "8q7XXiewQCeg"
      },
      "outputs": [
        {
          "name": "stdout",
          "output_type": "stream",
          "text": [
            "\n",
            "ANSWER: La señora vieja del cuento 'Algo muy grave va a suceder en este pueblo' posee dos hijos. Uno de los cuales tiene 17 años y la otra, una niña, es de 14 años. Está representando el estilo realista mágico característico que García Márquez utiliza para tejer personajes complejos dentro del tejido familiar densamente poblado en su narrativa.\n",
            "CONTEXT: Fragmento 2/40 de 'Algo muy grave va a suceder en este pueblo [Cuento - Texto completo.] Gabriel García Márquez': 'Imagínese usted un pueblo muy pequeño donde hay una señora vieja que tiene dos hijos, uno de 17 y una hija de 14'\n"
          ]
        }
      ],
      "source": [
        "response = rag_chain.invoke({\"input\": test_message})\n",
        "\n",
        "print(f\"\\nANSWER: {response['answer']}\\nCONTEXT: {response['context'][0].page_content}\")"
      ]
    }
  ],
  "metadata": {
    "accelerator": "GPU",
    "colab": {
      "gpuType": "T4",
      "provenance": []
    },
    "kernelspec": {
      "display_name": "Python 3",
      "name": "python3"
    },
    "language_info": {
      "codemirror_mode": {
        "name": "ipython",
        "version": 3
      },
      "file_extension": ".py",
      "mimetype": "text/x-python",
      "name": "python",
      "nbconvert_exporter": "python",
      "pygments_lexer": "ipython3",
      "version": "3.12.6"
    }
  },
  "nbformat": 4,
  "nbformat_minor": 0
}
